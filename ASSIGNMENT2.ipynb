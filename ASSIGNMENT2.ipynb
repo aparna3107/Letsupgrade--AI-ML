{
 "cells": [
  {
   "cell_type": "code",
   "execution_count": 46,
   "metadata": {},
   "outputs": [
    {
     "name": "stdout",
     "output_type": "stream",
     "text": [
      "elements in the list, which when divided by 2 is greater than 7, are: \n",
      "  20\n",
      "  16\n",
      "  24\n",
      "  42\n",
      "  48\n"
     ]
    }
   ],
   "source": [
    "# ASSIGNMENT 2 day4\n",
    "# QUESTION 5 : LIST OF 10 ELEMENTS;PRINT ALL ELEMENT IN THE LIST WHICH ARE GREATER THAN 7 WHEN IT IS DIVIDED by 2 \n",
    "    \n",
    "    \n",
    "A=[20,8,4,6,12,16,5,24,42,48]\n",
    "print(\"elements in the list, which when divided by 2 is greater than 7, are: \")\n",
    "for i in A:\n",
    "    b=i/2\n",
    "    if b>7:\n",
    "        print(\" \",i)\n",
    "        continue\n",
    "        "
   ]
  },
  {
   "cell_type": "code",
   "execution_count": 15,
   "metadata": {},
   "outputs": [
    {
     "name": "stdout",
     "output_type": "stream",
     "text": [
      "square of the element minus 2, in the list, which are divisible by 2, are: \n",
      "  398\n",
      "  62\n",
      "  14\n",
      "  34\n",
      "  142\n",
      "  254\n",
      "  1294\n",
      "  574\n",
      "  1762\n",
      "  2302\n"
     ]
    }
   ],
   "source": [
    "#QUESTION 4\n",
    "\n",
    "\n",
    "A=[20,8,4,6,12,16,36,24,42,48]\n",
    "print(\"square of the element minus 2, in the list, which are divisible by 2, are: \")\n",
    "for i in A:\n",
    "    if i%2==0:\n",
    "        c=i**2-2\n",
    "        print(\" \",c)\n",
    "        continue"
   ]
  },
  {
   "cell_type": "code",
   "execution_count": 44,
   "metadata": {},
   "outputs": [
    {
     "name": "stdout",
     "output_type": "stream",
     "text": [
      "enter greater number100\n",
      "enter second number50\n",
      "product is  5000\n"
     ]
    }
   ],
   "source": [
    "#QUESTION 3\n",
    "\n",
    "a=int(input(\"enter greater number\"))\n",
    "b=int(input(\"enter second number\"))\n",
    "c=a-b\n",
    "if c>25:\n",
    "    print(\"product is \",a*b)\n",
    "else:\n",
    "    print(\" when divided the answer is\",a/b)\n",
    "        \n",
    "        "
   ]
  },
  {
   "cell_type": "code",
   "execution_count": 64,
   "metadata": {},
   "outputs": [
    {
     "name": "stdout",
     "output_type": "stream",
     "text": [
      "enter starting range required: 1\n",
      "enter ending range required: 21\n",
      "required set of even numbers are: \n",
      "  2\n",
      "  4\n",
      "  6\n",
      "  8\n",
      "  10\n",
      "  12\n",
      "  14\n",
      "  16\n",
      "  18\n",
      "  20\n"
     ]
    }
   ],
   "source": [
    "# QUESTION 2(b)\n",
    "#PROGRAM INCLUDING RANGE FUNCTION : PRINT EVEN NUMBERS() \n",
    "\n",
    "\n",
    "N=int(input(\"enter starting range required: \"))\n",
    "B=int(input(\"enter ending range required: \"))\n",
    "i=N\n",
    "print(\"required set of even numbers are: \")\n",
    "for i in range(N,B+1):\n",
    "    if i%2==0:\n",
    "        print(\" \",i)\n",
    "        "
   ]
  },
  {
   "cell_type": "markdown",
   "metadata": {},
   "source": [
    "#QUESTION 2(a)\n",
    "a) Basic syntax of range function is range(start,stop,step)\n",
    "b)Start, stop and step parameters are basically integers.\n",
    "c) range(n) simply gives a range of numbers from o to n-1.\n",
    "d)let me explain the three parameters of range by citing an example:\n",
    "    for i in range (2,5,2):\n",
    "    print(i)\n",
    "   considering the above program start parameter which marks the starting range and here i range start from 2.\n",
    "   stop parameter is 5 here,that means here a series of number from 2 to 4 (5-1) will be printed with a step size of 2,ie,        expected output here is: 2 \n",
    "                            4\n"
   ]
  },
  {
   "cell_type": "code",
   "execution_count": 81,
   "metadata": {},
   "outputs": [
    {
     "name": "stdout",
     "output_type": "stream",
     "text": [
      "enter the first number10\n",
      "enter the second number2\n",
      "enter 1(addition) 2(subtraction) 3(multiplication) 4(division) 5(floor division) 6(modulo operator)2\n",
      "answer is :  8\n",
      "invalid option\n"
     ]
    }
   ],
   "source": [
    "#QUESTION1\n",
    "\n",
    "A=int(input(\"enter the first number\"))\n",
    "B=int(input(\"enter the second number\"))\n",
    "c=int(input(\"enter 1(addition) 2(subtraction) 3(multiplication) 4(division) 5(floor division) 6(modulo operator)\"))\n",
    "if c==1:\n",
    "    d=A+B\n",
    "    print(\"answer is : \",d)\n",
    "if c==2:\n",
    "    d=A-B\n",
    "    print(\"answer is : \",d)\n",
    "if c==3:\n",
    "    d=A*B\n",
    "    print(\"answer is : \",d)\n",
    "if c==4:\n",
    "    d=A/B\n",
    "    print(\"answer is : \",d)\n",
    "if c==5:\n",
    "    d=A//B\n",
    "    print(\"answer is : \",d)  \n",
    "if c==6:\n",
    "    d=A%B\n",
    "    print(\"answer is : \",d)\n",
    "else:\n",
    "    print(\"invalid option\")\n",
    "    \n",
    "    \n",
    "\n",
    "\n"
   ]
  },
  {
   "cell_type": "code",
   "execution_count": 82,
   "metadata": {},
   "outputs": [],
   "source": []
  },
  {
   "cell_type": "code",
   "execution_count": null,
   "metadata": {},
   "outputs": [],
   "source": []
  },
  {
   "cell_type": "code",
   "execution_count": null,
   "metadata": {},
   "outputs": [],
   "source": []
  },
  {
   "cell_type": "code",
   "execution_count": null,
   "metadata": {},
   "outputs": [],
   "source": []
  }
 ],
 "metadata": {
  "kernelspec": {
   "display_name": "Python 3",
   "language": "python",
   "name": "python3"
  },
  "language_info": {
   "codemirror_mode": {
    "name": "ipython",
    "version": 3
   },
   "file_extension": ".py",
   "mimetype": "text/x-python",
   "name": "python",
   "nbconvert_exporter": "python",
   "pygments_lexer": "ipython3",
   "version": "3.7.6"
  }
 },
 "nbformat": 4,
 "nbformat_minor": 4
}
